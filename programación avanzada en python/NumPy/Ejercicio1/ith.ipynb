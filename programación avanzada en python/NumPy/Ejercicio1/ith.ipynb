{
 "cells": [
  {
   "cell_type": "code",
   "execution_count": 10,
   "id": "e736a00f",
   "metadata": {},
   "outputs": [
    {
     "name": "stdout",
     "output_type": "stream",
     "text": [
      "Finding tests in NoName\n",
      "Trying:\n",
      "    check_nulls(np.array([[1,2,3], [4,5,6]]))   # array sin nan\n",
      "Expecting:\n",
      "    True\n",
      "ok\n",
      "Trying:\n",
      "    check_nulls(np.array([[1,np.nan,3], [4,5,6]]))   # array con un nan\n",
      "Expecting:\n",
      "    False\n",
      "ok\n",
      "Trying:\n",
      "    check_nulls(np.array([]))   # array vacío\n",
      "Expecting:\n",
      "    True\n",
      "ok\n",
      "Finding tests in NoName\n",
      "Trying:\n",
      "    ith(np.array([[1,2,3], [4,5,6]]), np.array([[1,2,3], [4,5,6]]))\n",
      "Expecting:\n",
      "    array([[47., 48., 48.],\n",
      "           [49., 50., 51.]])\n",
      "ok\n",
      "Trying:\n",
      "    ith(np.array([[1,np.nan,3], [4,5,6]]), np.array([[1,2,3], [4,5,6]]))\n",
      "Expecting:\n",
      "    array([[47., nan, 48.],\n",
      "           [49., 50., 51.]])\n",
      "ok\n",
      "Trying:\n",
      "    ith(np.array([[1], [4]]), np.array([[1], [4]]))\n",
      "Expecting:\n",
      "    array([[47.],\n",
      "           [49.]])\n",
      "ok\n",
      "Trying:\n",
      "    ith(np.array([[2,3], [4,5]]), np.array([[1,2,3], [4,5,6]]))  # dimensiones distintas\n",
      "Expecting:\n",
      "    Traceback (most recent call last):\n",
      "        ...\n",
      "    ValueError: Shape of data sensors must be the same. Temperature: (2, 2) != humidity: (2, 3)\n",
      "ok\n"
     ]
    }
   ],
   "source": [
    "# imports\n",
    "\n",
    "import numpy as np\n",
    "\n",
    "\n",
    "def summary(a: np.ndarray) -> tuple[float, float, float, float]:\n",
    "    \"\"\"\n",
    "    function that returns the minimum, maximum, mean and standard deviation of an array\n",
    "    :param a: ndarray\n",
    "    :return: tuple of float\n",
    "       a tuple of four float values: min, max, mean, std\n",
    "    Examples\n",
    "    --------\n",
    "    >>> summary(np.array([[1,2,3], [4,5,6]]))   # array sin nan\n",
    "    (1, 6, 3.5, 1.707825127659933)\n",
    "    >>> summary(np.array([[1,np.nan,3], [4,5,6]]))   # array con un nan\n",
    "    (nan, nan, nan, nan)\n",
    "    >>> summary(np.array([]))   # array vacío\n",
    "    Traceback (most recent call last):\n",
    "    ...\n",
    "    ValueError: zero-size array to reduction operation minimum which has no identity\n",
    "    \"\"\"\n",
    "\n",
    "    # write your code here\n",
    "    if len(a) == 0:\n",
    "        raise ValueError(\"zero-size array to reduction operation minimum which has no identity\")\n",
    "\n",
    "    return np.min(a), np.max(a), np.mean(a), np.std(a)\n",
    "\n",
    "\n",
    "def check_nulls(a: np.ndarray) -> bool:\n",
    "    \"\"\"\n",
    "    function that checks the validity od sensor data\n",
    "    :param a: np.ndarray\n",
    "    :return: bool\n",
    "       indicates if data contains nan\n",
    "    Examples\n",
    "    --------\n",
    "    >>> check_nulls(np.array([[1,2,3], [4,5,6]]))   # array sin nan\n",
    "    True\n",
    "    >>> check_nulls(np.array([[1,np.nan,3], [4,5,6]]))   # array con un nan\n",
    "    False\n",
    "    >>> check_nulls(np.array([]))   # array vacío\n",
    "    True\n",
    "    \"\"\"\n",
    "    # write your code here\n",
    "    return not np.any(np.isnan(a))\n",
    "\n",
    "\n",
    "def ith(temperature: np.ndarray, humidity: np.ndarray) -> np.ndarray:\n",
    "    \"\"\"\n",
    "    Calculates the temperature-humidity index (THI) of each of the grid cells.\n",
    "    The ith-value of each cell must be rounded to the nearest integer\n",
    "    :param temperature:  np.ndarray\n",
    "        temperatures collected by the sensor in a grid\n",
    "    :param humidity:  np.ndarray\n",
    "        humidity data collected by the sensor on a grid\n",
    "    :return:  np.ndarray\n",
    "        temperature-humidity index (THI) (round to the nearest integer)\n",
    "    :raise ValueError: if shape of input arrays is not the same\n",
    "    >>> ith(np.array([[1,2,3], [4,5,6]]), np.array([[1,2,3], [4,5,6]]))\n",
    "    array([[47., 48., 48.],\n",
    "           [49., 50., 51.]])\n",
    "    >>> ith(np.array([[1,np.nan,3], [4,5,6]]), np.array([[1,2,3], [4,5,6]]))\n",
    "    array([[47., nan, 48.],\n",
    "           [49., 50., 51.]])\n",
    "    >>> ith(np.array([[1], [4]]), np.array([[1], [4]]))\n",
    "    array([[47.],\n",
    "           [49.]])\n",
    "    >>> ith(np.array([[2,3], [4,5]]), np.array([[1,2,3], [4,5,6]]))  # dimensiones distintas\n",
    "    Traceback (most recent call last):\n",
    "        ...\n",
    "    ValueError: Shape of data sensors must be the same. Temperature: (2, 2) != humidity: (2, 3)\n",
    "    \"\"\"\n",
    "    # write your code here\n",
    "    if temperature.shape != humidity.shape:\n",
    "        raise ValueError(\n",
    "            f\"Shape of data sensors must be the same. Temperature: {temperature.shape} != humidity: {humidity.shape}\")\n",
    "\n",
    "    result = np.round(0.8 * temperature + humidity / 100 * (temperature - 14.3) + 46.4)\n",
    "    return result\n",
    "\n",
    "\n",
    "def isStress(ith: np.ndarray) -> np.ndarray:\n",
    "    \"\"\"\n",
    "    Determines the grid points where serious stress occurs.\n",
    "    :param ith: np.ndarray\n",
    "       temperature-humidity index (THI)\n",
    "    :return: np.ndarray\n",
    "       True values indicate serious stress\n",
    "    >>> isStress(np.array([[47.], [49.]]))\n",
    "    array([[False],\n",
    "           [False]])\n",
    "    >>> isStress(np.array([[47., 79., 48.], [49.,50. ,81.]]))\n",
    "    array([[False,  True, False],\n",
    "           [False, False,  True]])\n",
    "    >>> isStress(np.array([[80, np.nan, 48.], [49., 50., 88.]]))\n",
    "    array([[ True, False, False],\n",
    "           [False, False,  True]])\n",
    "    \"\"\"\n",
    "    # write your code here\n",
    "    return np.greater(ith, 78)\n",
    "\n",
    "\n",
    "import doctest\n",
    "\n",
    "def test_doc() -> None:\n",
    "    \"\"\"\n",
    "    The following instructions are to execute the tests of same functions\n",
    "    If any test is fail, we will receive the notice when executing\n",
    "    :return: None\n",
    "    \"\"\"\n",
    "    doctest.run_docstring_examples(check_nulls, globals(), verbose=True)  # vemos los resultados de los test\n",
    "    doctest.run_docstring_examples(ith, globals(), verbose=True)  # vemos los resultados de los test\n",
    "    doctest.run_docstring_examples(isStress, globals(), verbose=False)  # solo los resultados de los test que fallan\n",
    "    doctest.run_docstring_examples(summary, globals(), verbose=False)  # solo los resultados de los test que fallan\n",
    "    \n",
    "    \n",
    "test_doc()"
   ]
  },
  {
   "cell_type": "code",
   "execution_count": 4,
   "id": "251b3fff",
   "metadata": {},
   "outputs": [
    {
     "data": {
      "text/plain": [
       "array([[66.2, 66.1, 66.5, ..., 83.9, 83.8, 83.8],\n",
       "       [83.7, 83.3, 83.4, ..., 78. , 78. , 77.9],\n",
       "       [77.9, 77.9, 77.8, ..., 41.2, 41.2, 40.7],\n",
       "       ...,\n",
       "       [87.1, 87.1, 87.2, ..., 71.4, 71.3, 71.2],\n",
       "       [71.3, 71.2, 70.8, ..., 58. , 58.5, 58.8],\n",
       "       [58.8, 58.7, 57.2, ..., 44.6, 44.6, 44.9]])"
      ]
     },
     "execution_count": 4,
     "metadata": {},
     "output_type": "execute_result"
    }
   ],
   "source": [
    "datos_humedad = np.loadtxt('./datos/humedad.txt')\n",
    "datos_humedad"
   ]
  },
  {
   "cell_type": "code",
   "execution_count": 5,
   "id": "8616db73",
   "metadata": {},
   "outputs": [
    {
     "data": {
      "text/plain": [
       "array([[16., 16., 15., ..., 18., 18., 18.],\n",
       "       [18., 18., 18., ..., 22., 21., 21.],\n",
       "       [22., 22., 22., ..., 19., 19., 19.],\n",
       "       ...,\n",
       "       [17., 17., 17., ..., 19., 19., 19.],\n",
       "       [19., 19., 18., ..., 19., 19., 19.],\n",
       "       [19., 20., 20., ..., 19., 19., 19.]])"
      ]
     },
     "execution_count": 5,
     "metadata": {},
     "output_type": "execute_result"
    }
   ],
   "source": [
    "datos_temperatura = np.loadtxt('./datos/temperaturas.txt')\n",
    "datos_temperatura"
   ]
  },
  {
   "cell_type": "code",
   "execution_count": 7,
   "id": "561f984f",
   "metadata": {},
   "outputs": [
    {
     "data": {
      "text/plain": [
       "array([[60., 60., 59., ..., 64., 64., 64.],\n",
       "       [64., 64., 64., ..., 70., 68., 68.],\n",
       "       [70., 70., 70., ..., 64., 64., 64.],\n",
       "       ...,\n",
       "       [62., 62., 62., ..., 65., 65., 65.],\n",
       "       [65., 65., 63., ..., 64., 64., 64.],\n",
       "       [64., 66., 66., ..., 64., 64., 64.]])"
      ]
     },
     "execution_count": 7,
     "metadata": {},
     "output_type": "execute_result"
    }
   ],
   "source": [
    "datos_ith = ith(datos_temperatura, datos_humedad)\n",
    "datos_ith"
   ]
  },
  {
   "cell_type": "code",
   "execution_count": 8,
   "id": "1ac4443a",
   "metadata": {},
   "outputs": [
    {
     "data": {
      "text/plain": [
       "array([[False, False, False, ..., False, False, False],\n",
       "       [False, False, False, ..., False, False, False],\n",
       "       [False, False, False, ..., False, False, False],\n",
       "       ...,\n",
       "       [False, False, False, ..., False, False, False],\n",
       "       [False, False, False, ..., False, False, False],\n",
       "       [False, False, False, ..., False, False, False]])"
      ]
     },
     "execution_count": 8,
     "metadata": {},
     "output_type": "execute_result"
    }
   ],
   "source": [
    "isStress(datos_ith)"
   ]
  },
  {
   "cell_type": "code",
   "execution_count": 9,
   "id": "47da6980",
   "metadata": {},
   "outputs": [
    {
     "data": {
      "text/plain": [
       "array([79., 79., 79., 79., 79., 79., 79., 79., 79., 80., 80., 79., 79.,\n",
       "       79., 79., 79., 79., 79., 81., 80., 79., 79., 79., 79., 79., 80.,\n",
       "       79., 80., 80., 79., 79., 80., 80., 80., 80., 80., 80., 80., 80.,\n",
       "       80., 80., 80., 80., 80., 80., 80., 80., 80., 80., 80., 80., 80.,\n",
       "       80., 80., 82., 82., 80., 80., 80., 80., 80., 80., 80., 80., 80.,\n",
       "       80., 80., 80., 80., 80., 80., 80., 80., 80., 82., 82., 80., 80.,\n",
       "       81., 81., 80., 80., 80., 80., 80., 80., 80., 80., 80., 80., 80.,\n",
       "       80., 80., 80., 82., 82., 80., 80., 80., 80., 82., 82., 80., 80.,\n",
       "       80., 82., 80., 80., 82., 82., 82., 82., 82., 82., 82., 82., 82.,\n",
       "       82., 82., 82., 82., 82., 82., 80., 80., 80., 80., 80., 82., 82.,\n",
       "       82., 82., 82., 82., 80., 80., 80., 80., 80., 80., 80., 80., 80.,\n",
       "       80., 80., 80., 80., 80., 80., 80., 80., 80., 80., 80., 80., 80.,\n",
       "       80., 80., 80., 79., 79., 80., 80., 80., 79., 79., 79., 79., 79.,\n",
       "       80., 80., 79., 79., 80., 80., 80., 80., 80., 80., 80., 80., 80.,\n",
       "       80., 82., 82., 82., 80., 79., 79., 79., 79., 79., 79., 79., 79.,\n",
       "       79., 79., 79., 79., 79., 79., 79., 80., 80., 80., 79., 79., 79.,\n",
       "       79., 80., 80., 80., 80., 80., 80., 80., 80., 79., 79., 79., 79.,\n",
       "       79., 79., 79., 79., 79., 79., 79., 79., 79., 79., 79., 79., 79.,\n",
       "       79., 79., 79., 79., 79., 79., 79., 79., 79., 79., 79., 79., 79.,\n",
       "       79., 79., 79., 79., 79., 79., 79., 79., 79., 79., 79., 79., 79.,\n",
       "       79., 79., 79., 79., 79., 79., 79., 79., 79., 79., 79., 79., 79.,\n",
       "       79., 79., 79., 79., 79., 79., 79., 79., 81., 81., 79., 79., 79.,\n",
       "       79., 79., 79., 79., 79., 79., 79., 81., 81., 79., 79., 79., 79.,\n",
       "       81., 81., 81., 79., 79., 81., 81., 81., 79., 79., 79., 81., 81.,\n",
       "       79., 79., 79., 79., 79., 79., 81., 81., 81., 81., 79., 79., 79.,\n",
       "       79., 79., 81., 81., 81., 81., 79., 79., 79., 79., 79., 79., 81.,\n",
       "       81., 81., 81., 81., 81., 81., 81., 81., 81., 81., 81., 79., 79.,\n",
       "       79., 79., 81., 81., 81., 81., 83., 81., 81., 81., 81., 81., 81.,\n",
       "       81., 81., 81., 81., 81., 81., 81., 83., 81., 81., 81., 81., 81.,\n",
       "       79., 79., 79., 79., 81., 81., 79., 79., 79., 79., 79., 79., 79.,\n",
       "       79., 79., 79., 79., 79., 79., 79., 79., 79., 79., 79., 81., 81.,\n",
       "       79., 79., 79., 79., 79., 79., 79., 79., 81., 81., 79., 79., 79.,\n",
       "       79., 79., 81., 81., 81., 81., 81., 79., 81., 80., 81., 80., 80.,\n",
       "       81., 81., 81., 80., 81., 81., 80., 80., 81., 81., 81., 81., 81.,\n",
       "       81., 81., 81., 81., 81., 81., 81., 81., 81., 81., 81., 83., 83.,\n",
       "       83., 83., 83., 83., 83., 83., 83., 83., 83., 83., 83., 83., 85.,\n",
       "       85., 83., 83., 85., 85., 83., 85., 85., 85., 83., 83., 85., 85.,\n",
       "       85., 85., 85., 85., 83., 83., 85., 83., 85., 83., 85., 85., 85.,\n",
       "       85., 85., 85., 85., 85., 85., 85., 85., 85., 85., 86., 86., 85.,\n",
       "       85., 85., 85., 85., 85., 85., 85., 85., 85., 85., 85., 85., 85.,\n",
       "       85., 85., 86., 86., 86., 85., 85., 85., 85., 85., 85., 85., 85.,\n",
       "       85., 84., 86., 86., 86., 86., 86., 86., 86., 86., 86., 86., 86.,\n",
       "       86., 86., 84., 84., 85., 85., 85., 85., 85., 85., 84., 84., 84.,\n",
       "       84., 84., 84., 83., 83., 83., 83., 83., 83., 83., 81., 81., 83.,\n",
       "       81., 82., 82., 82., 82., 81., 79., 79., 79., 79., 79., 79., 79.,\n",
       "       79., 81., 81., 79., 79., 80., 80., 79., 79., 79., 79., 79., 79.,\n",
       "       79., 79., 79., 80., 80., 79., 79., 79., 79., 79., 79., 79., 79.,\n",
       "       79., 79., 79., 79., 79., 79., 79., 81., 81., 79., 79., 79., 79.,\n",
       "       79., 79., 79., 79., 79., 79., 79., 79., 80., 79., 79., 79., 79.,\n",
       "       79., 79., 79., 79., 79., 79., 79., 79., 79., 79., 79., 81., 79.,\n",
       "       81., 81., 79., 79., 79., 79., 79., 79., 79., 79., 79., 79., 79.,\n",
       "       79., 79., 79., 79., 79., 79.])"
      ]
     },
     "execution_count": 9,
     "metadata": {},
     "output_type": "execute_result"
    }
   ],
   "source": [
    "datos_ith[isStress(datos_ith)]"
   ]
  },
  {
   "cell_type": "code",
   "execution_count": null,
   "id": "c534adb7",
   "metadata": {},
   "outputs": [],
   "source": []
  }
 ],
 "metadata": {
  "kernelspec": {
   "display_name": "Python 3 (ipykernel)",
   "language": "python",
   "name": "python3"
  },
  "language_info": {
   "codemirror_mode": {
    "name": "ipython",
    "version": 3
   },
   "file_extension": ".py",
   "mimetype": "text/x-python",
   "name": "python",
   "nbconvert_exporter": "python",
   "pygments_lexer": "ipython3",
   "version": "3.9.12"
  }
 },
 "nbformat": 4,
 "nbformat_minor": 5
}
